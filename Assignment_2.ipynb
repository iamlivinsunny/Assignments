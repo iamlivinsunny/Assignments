{
 "cells": [
  {
   "cell_type": "markdown",
   "metadata": {},
   "source": [
    "##### 1. Create the below pattern using nested for loop in Python.\n"
   ]
  },
  {
   "cell_type": "code",
   "execution_count": 22,
   "metadata": {},
   "outputs": [
    {
     "name": "stdout",
     "output_type": "stream",
     "text": [
      "\n",
      "\n",
      "* \n",
      "\n",
      "* * \n",
      "\n",
      "* * * \n",
      "\n",
      "* * * * \n",
      "\n",
      "* * * * * \n",
      "\n",
      "* * * * \n",
      "\n",
      "* * * \n",
      "\n",
      "* * \n",
      "\n",
      "* "
     ]
    }
   ],
   "source": [
    "counter = 0 # setting the starting value for the counter as zero\n",
    "limit = 5  # setting a count limiter\n",
    "while True:\n",
    "    if (counter<limit) :  # Used for printing first 5 rows till counter <5 (4)\n",
    "        for i in range (0,counter):\n",
    "            print('*',end=' ')\n",
    "        counter+=1\n",
    "        print('\\n')\n",
    "    else  :\n",
    "        counter-=1  # placed to reduce the counter back to zero\n",
    "        for j in range (counter,-1,-1): \n",
    "            print('*',end=' ')        \n",
    "        limit=0 # setting the limit to prevent the control entering back to if clause after completing incrementing section\n",
    "        if(counter == 0): \n",
    "                break   # Breaking after entering final row\n",
    "        print('\\n')\n",
    "        "
   ]
  },
  {
   "cell_type": "markdown",
   "metadata": {},
   "source": [
    "##### 2.Write a Python program to reverse a word after accepting the input from the user."
   ]
  },
  {
   "cell_type": "code",
   "execution_count": 23,
   "metadata": {},
   "outputs": [
    {
     "name": "stdout",
     "output_type": "stream",
     "text": [
      "Enter the text to reverseIneuron\n",
      "Reversed string = noruenI\n"
     ]
    }
   ],
   "source": [
    "text = input('Enter the text to reverse')\n",
    "print('Reversed string', text[::-1], sep=' = ') #String reversal code"
   ]
  },
  {
   "cell_type": "code",
   "execution_count": null,
   "metadata": {},
   "outputs": [],
   "source": []
  }
 ],
 "metadata": {
  "kernelspec": {
   "display_name": "Python 3",
   "language": "python",
   "name": "python3"
  },
  "language_info": {
   "codemirror_mode": {
    "name": "ipython",
    "version": 3
   },
   "file_extension": ".py",
   "mimetype": "text/x-python",
   "name": "python",
   "nbconvert_exporter": "python",
   "pygments_lexer": "ipython3",
   "version": "3.8.3"
  }
 },
 "nbformat": 4,
 "nbformat_minor": 4
}
