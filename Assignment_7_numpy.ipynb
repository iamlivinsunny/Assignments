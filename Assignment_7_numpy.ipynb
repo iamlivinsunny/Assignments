{
 "cells": [
  {
   "cell_type": "markdown",
   "metadata": {},
   "source": [
    "## Numpy assignment"
   ]
  },
  {
   "cell_type": "markdown",
   "metadata": {},
   "source": [
    " ### Question 1"
   ]
  },
  {
   "cell_type": "markdown",
   "metadata": {},
   "source": [
    "#### Write a function so that the columns of the output matrix are powers of the input vector.\n",
    "The order of the powers is determined by the increasing boolean argument. Specifically, when\n",
    "increasing is False, the i-th output column is the input vector raised element-wise to the power\n",
    "of N - i - 1.\n",
    "\n",
    "HINT: Such a matrix with a geometric progression in each row is named for Alexandre-\n",
    "Theophile Vandermonde."
   ]
  },
  {
   "cell_type": "code",
   "execution_count": 142,
   "metadata": {},
   "outputs": [],
   "source": [
    "import numpy as np"
   ]
  },
  {
   "cell_type": "code",
   "execution_count": 143,
   "metadata": {},
   "outputs": [],
   "source": [
    "def Vandermonde_matrix(vecotor, column_dimension=0, increment=False):\n",
    "    row, = np.array(vecotor).shape # Getting the no of elements in the vector provided \n",
    "    array_1 = np.array(vecotor).reshape(row,1) # Reshaping the list to numpy array of shape row x 1\n",
    "    matrix = array_1 ** 0 # making the a column array of 1\n",
    "    for i in range( 1, column_dimension):\n",
    "        if increment: # Depending on the boolean operator whether true or false the order of columns are determined\n",
    "            matrix = np.append(matrix, (array_1**i), axis = 1)\n",
    "        else:\n",
    "            matrix = np.append((array_1**i), matrix,  axis = 1)\n",
    "    return(matrix)   # returing the resulting vector        "
   ]
  },
  {
   "cell_type": "code",
   "execution_count": 159,
   "metadata": {},
   "outputs": [
    {
     "name": "stdout",
     "output_type": "stream",
     "text": [
      "[[  1   1   1   1]\n",
      " [  1   2   4   8]\n",
      " [  1   3   9  27]\n",
      " [  1   5  25 125]]\n"
     ]
    }
   ],
   "source": [
    "vector = [1, 2, 3, 5]\n",
    "print(Vandermonde_matrix(vector,4,True))"
   ]
  },
  {
   "cell_type": "markdown",
   "metadata": {},
   "source": [
    "### Ansewer using Numpy built in function numpy.vander"
   ]
  },
  {
   "cell_type": "code",
   "execution_count": null,
   "metadata": {},
   "outputs": [],
   "source": [
    "vector = [1,2,3]"
   ]
  },
  {
   "cell_type": "code",
   "execution_count": 147,
   "metadata": {},
   "outputs": [
    {
     "data": {
      "text/plain": [
       "array([[  1,   1,   1,   1],\n",
       "       [  1,   2,   4,   8],\n",
       "       [  1,   3,   9,  27],\n",
       "       [  1,   5,  25, 125]])"
      ]
     },
     "execution_count": 147,
     "metadata": {},
     "output_type": "execute_result"
    }
   ],
   "source": [
    "np.vander(vector,4,True)"
   ]
  },
  {
   "cell_type": "code",
   "execution_count": null,
   "metadata": {},
   "outputs": [],
   "source": []
  },
  {
   "cell_type": "markdown",
   "metadata": {},
   "source": [
    " ### Question 2"
   ]
  },
  {
   "cell_type": "markdown",
   "metadata": {},
   "source": [
    "Problem Statement 2:\n",
    "Given a sequence of n values x1, x2, ..., xn and a window size k>0, the k-th moving average of\n",
    "the given sequence is defined as follows:\n",
    "The moving average sequence has n-k+1 elements as shown below.\n",
    "The moving averages with k=4 of a ten-value sequence (n=10) is shown below\n",
    "   - i 1 2 3 4 5 6 7 8 9 10\n",
    "\n",
    "===== == == == == == == == == == ==\n",
    "\n",
    "   - Input 10 20 30 40 50 60 70 80 90 100\n",
    "   - y1 25 = (10+20+30+40)/4\n",
    "   - y2 35 = (20+30+40+50)/4\n",
    "   - y3 45 = (30+40+50+60)/4\n",
    "   - y4 55 = (40+50+60+70)/4\n",
    "   - y5 65 = (50+60+70+80)/4\n",
    "   - y6 75 = (60+70+80+90)/4\n",
    "   - y7 85 = (70+80+90+100)/4\n",
    "Thus, the moving average sequence has n-k+1=10-4+1=7 values.\n",
    "\n",
    "Question: Write a function to find moving average in an array over a window:\n",
    "Test it over [3, 5, 7, 2, 8, 10, 11, 65, 72, 81, 99, 100, 150] and window of 3."
   ]
  },
  {
   "cell_type": "code",
   "execution_count": 177,
   "metadata": {},
   "outputs": [],
   "source": [
    "def movingAvg(dataSet, window):\n",
    "    np_array = np.array(dataSet) \n",
    "    row, = np_array.shape\n",
    "    movingAVGMatrix = np.array([])\n",
    "    for i in range (0,row):\n",
    "        temp_sum = (np_array[0+i:window+i]).sum()\n",
    "        movingAVGMatrix = np.append(movingAVGMatrix,temp_sum)\n",
    "        if window+i == row :\n",
    "            break\n",
    "    return movingAVGMatrix\n",
    "    "
   ]
  },
  {
   "cell_type": "code",
   "execution_count": 192,
   "metadata": {},
   "outputs": [
    {
     "data": {
      "text/plain": [
       "array([ 15.,  14.,  17.,  20.,  29.,  86., 148., 218., 252., 280., 349.])"
      ]
     },
     "execution_count": 192,
     "metadata": {},
     "output_type": "execute_result"
    }
   ],
   "source": [
    "movingAvg( [3, 5, 7, 2, 8, 10, 11, 65, 72, 81, 99, 100, 150] ,3)"
   ]
  },
  {
   "cell_type": "markdown",
   "metadata": {},
   "source": [
    "### Solution 2"
   ]
  },
  {
   "cell_type": "code",
   "execution_count": 188,
   "metadata": {},
   "outputs": [],
   "source": [
    "def movingAvg_2(dataSet, window = 2):\n",
    "    moving_avg = np.cumsum(dataSet)\n",
    "    moving_avg[window:] = moving_avg[window:] - moving_avg[:-window]\n",
    "    return moving_avg[window-1:]    "
   ]
  },
  {
   "cell_type": "code",
   "execution_count": 193,
   "metadata": {},
   "outputs": [
    {
     "name": "stdout",
     "output_type": "stream",
     "text": [
      "[ 15  14  17  20  29  86 148 218 252 280 349]\n"
     ]
    }
   ],
   "source": [
    "print(movingAvg_2( [3, 5, 7, 2, 8, 10, 11, 65, 72, 81, 99, 100, 150] ,3))"
   ]
  },
  {
   "cell_type": "code",
   "execution_count": null,
   "metadata": {},
   "outputs": [],
   "source": []
  }
 ],
 "metadata": {
  "kernelspec": {
   "display_name": "Python 3",
   "language": "python",
   "name": "python3"
  },
  "language_info": {
   "codemirror_mode": {
    "name": "ipython",
    "version": 3
   },
   "file_extension": ".py",
   "mimetype": "text/x-python",
   "name": "python",
   "nbconvert_exporter": "python",
   "pygments_lexer": "ipython3",
   "version": "3.8.3"
  }
 },
 "nbformat": 4,
 "nbformat_minor": 4
}
